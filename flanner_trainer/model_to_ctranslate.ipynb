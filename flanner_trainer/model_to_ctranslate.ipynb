{
 "cells": [
  {
   "cell_type": "markdown",
   "id": "fdfcf1a9-a4fe-43c0-b648-f957ad9bb470",
   "metadata": {},
   "source": [
    "# FLANER model evaluation"
   ]
  },
  {
   "cell_type": "markdown",
   "id": "0e89018f-be68-475e-95ef-7e552f6ba92b",
   "metadata": {},
   "source": [
    "### Config"
   ]
  },
  {
   "cell_type": "code",
   "execution_count": 8,
   "id": "e9ad70a3-056e-4795-89ff-3dfc18c90ff1",
   "metadata": {
    "tags": []
   },
   "outputs": [],
   "source": [
    "CHECKPOINT_PATH = '/home/ubuntu/gil/flanner_trainer/models/v3/batch_size_64/checkpoint-897'\n",
    "TEST_LABELED_DATA_PATH = '/home/ubuntu/gil/flanner_trainer/val_prompt_dataset_final_corrected15.csv'\n",
    "TEST_SET_PREDICTIONS_PATH = '/home/ubuntu/gil/flanner_trainer/'\n",
    "TASK_PREFIX = 'ner_last_name:'\n",
    "OUTPUT_DIR = '/home/ubuntu/gil/flanner_trainer/models/ctranslate_model'"
   ]
  },
  {
   "cell_type": "code",
   "execution_count": 2,
   "id": "7c60c6c8-6e89-4346-86b2-f7bac405d0d3",
   "metadata": {},
   "outputs": [],
   "source": [
    "DATA_CLASSES_TAGS = {\n",
    "    \"LN\": \"last_name\"\n",
    "}\n",
    "\n",
    "GROUND_TRUTH_DATA_CLASSES_TAGS = {\n",
    "    \"last_name\": \"last_name\"  \n",
    "\n",
    "}"
   ]
  },
  {
   "cell_type": "code",
   "execution_count": 3,
   "id": "7f63d85f-3d04-46d9-abff-f011b62a2453",
   "metadata": {
    "tags": []
   },
   "outputs": [],
   "source": [
    "ENTITY_DELIMITER = \" #### \"\n",
    "VALUES_DELIMITER = \",\""
   ]
  },
  {
   "cell_type": "code",
   "execution_count": 4,
   "id": "d3183c33-35d9-4173-bd7f-d868a763969a",
   "metadata": {
    "tags": []
   },
   "outputs": [],
   "source": [
    "from model_config import *"
   ]
  },
  {
   "cell_type": "markdown",
   "id": "8e40757d-54d7-4076-8046-8f93ae21f761",
   "metadata": {},
   "source": [
    "### Dependencies"
   ]
  },
  {
   "cell_type": "code",
   "execution_count": 14,
   "id": "0c754324-f95d-4b04-bf84-0b42db8f7d6a",
   "metadata": {
    "tags": []
   },
   "outputs": [],
   "source": [
    "import pandas as pd\n",
    "import re\n",
    "from ds_commons.flanner_utils import convert_model_to_ct2, load_ct2_model, ct2_inference\n",
    "from transformers import AutoTokenizer"
   ]
  },
  {
   "cell_type": "code",
   "execution_count": 9,
   "id": "75211772-2395-4380-9af5-e30bcd9b8a26",
   "metadata": {},
   "outputs": [
    {
     "name": "stderr",
     "output_type": "stream",
     "text": [
      "Loading checkpoint shards: 100%|██████████| 2/2 [00:05<00:00,  2.80s/it]\n"
     ]
    }
   ],
   "source": [
    "convert_model_to_ct2(model_dir=CHECKPOINT_PATH, output_dir=OUTPUT_DIR)"
   ]
  },
  {
   "cell_type": "code",
   "execution_count": 12,
   "id": "7371b586-0f71-40b2-946a-cef987217892",
   "metadata": {},
   "outputs": [],
   "source": [
    "ct_model = load_ct2_model(model_dir_path=OUTPUT_DIR, device='cuda')"
   ]
  },
  {
   "cell_type": "code",
   "execution_count": 15,
   "id": "690b3f71-c86f-48ad-ad66-5c5f4da9fd80",
   "metadata": {},
   "outputs": [
    {
     "name": "stderr",
     "output_type": "stream",
     "text": [
      "/home/ubuntu/.local/lib/python3.9/site-packages/huggingface_hub/file_download.py:1142: FutureWarning: `resume_download` is deprecated and will be removed in version 1.0.0. Downloads always resume when possible. If you want to force a new download, use `force_download=True`.\n",
      "  warnings.warn(\n"
     ]
    }
   ],
   "source": [
    "tokenizer = AutoTokenizer.from_pretrained(MODEL_ID)"
   ]
  },
  {
   "cell_type": "code",
   "execution_count": 18,
   "id": "b64bcaac-e8c1-4648-8c8f-ecb8ad4b461d",
   "metadata": {},
   "outputs": [],
   "source": [
    "CONTROL_CHARS_PATTERN = re.compile(\"[\\u0000-\\u0008\\u000b\\u000c\\u000e-\\u001f\\u007f-\\u00a0]+\")\n",
    "\n",
    "def clean_text(context):\n",
    "    context = str(context)\n",
    "    context = context.replace('\\n', ' ')\n",
    "    context = context.replace('\\t', ' ')\n",
    "    context = context.replace('\\\\r\\\\n', ' ')\n",
    "    context = CONTROL_CHARS_PATTERN.sub(' ', context).strip()\n",
    "    context = re.sub(' +', ' ', context)\n",
    "    return context\n",
    "\n",
    "\n",
    "df = pd.read_csv(TEST_LABELED_DATA_PATH)\n",
    "df['clean_context'] = df['context'].apply(lambda x: clean_text(x))\n",
    "model_inputs = df['clean_context'].to_list()\n",
    "model_inputs = [TASK_PREFIX+x for x in model_inputs]"
   ]
  },
  {
   "cell_type": "code",
   "execution_count": 19,
   "id": "9073c8c0-4660-41d3-a699-dacb5fb47748",
   "metadata": {},
   "outputs": [
    {
     "data": {
      "text/plain": [
       "['ner_last_name:Client: Hall-Johnston Walker, Rojas and Wells',\n",
       " 'ner_last_name:C12004000197OP010412Brooklyn NY2131WVitaliy Gavrylyuk WCLVitaliy Gavrylyuk 11218X',\n",
       " 'ner_last_name:Sent: Tuesday, April 01, 2014 10:32 AM To: OGrady.Elizabeth; Agencyauthos',\n",
       " 'ner_last_name:Statement Period Feb 1 - Feb 28, 2021 Relationship Manager Cabrera,Ana',\n",
       " 'ner_last_name:this proponent again? Yes, currently working with Ellis Don on construction a $370+M DBF']"
      ]
     },
     "execution_count": 19,
     "metadata": {},
     "output_type": "execute_result"
    }
   ],
   "source": [
    "model_inputs[0:5]"
   ]
  },
  {
   "cell_type": "code",
   "execution_count": 22,
   "id": "5c553a7c-27cb-4894-8641-1f8d718b2284",
   "metadata": {},
   "outputs": [],
   "source": [
    "res = ct2_inference(\n",
    "    model_input=model_inputs,\n",
    "    tokenizer=tokenizer,\n",
    "    translator=ct_model,\n",
    "    max_length=1000, #  what should it be?\n",
    "    generation_max_length=GENERATION_MAX_LEN,\n",
    "    batch_size=BATCH_SIZE\n",
    ")"
   ]
  },
  {
   "cell_type": "code",
   "execution_count": 24,
   "id": "07fd87f8-62a7-4a51-9018-3cc6ff884fd6",
   "metadata": {},
   "outputs": [
    {
     "data": {
      "text/plain": [
       "[\"LN:['Walker', 'Rojas', 'Wells']\",\n",
       " 'LN:[]',\n",
       " 'LN:[]',\n",
       " \"LN:['Cabrera']\",\n",
       " 'LN:[]',\n",
       " 'LN:[]',\n",
       " \"LN:['BOGDAN', 'RADU']\",\n",
       " 'LN:[]',\n",
       " 'LN:[]',\n",
       " \"LN:['Law', 'Crosby']\"]"
      ]
     },
     "execution_count": 24,
     "metadata": {},
     "output_type": "execute_result"
    }
   ],
   "source": [
    "res[0:10]"
   ]
  },
  {
   "cell_type": "code",
   "execution_count": null,
   "id": "df3d92c0-0e8c-4072-9d90-728974f73b4a",
   "metadata": {},
   "outputs": [],
   "source": []
  }
 ],
 "metadata": {
  "kernelspec": {
   "display_name": "Python 3 (ipykernel)",
   "language": "python",
   "name": "python3"
  },
  "language_info": {
   "codemirror_mode": {
    "name": "ipython",
    "version": 3
   },
   "file_extension": ".py",
   "mimetype": "text/x-python",
   "name": "python",
   "nbconvert_exporter": "python",
   "pygments_lexer": "ipython3",
   "version": "3.9.2"
  }
 },
 "nbformat": 4,
 "nbformat_minor": 5
}
